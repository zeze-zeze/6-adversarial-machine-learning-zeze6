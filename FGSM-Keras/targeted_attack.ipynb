{
 "cells": [
  {
   "cell_type": "code",
   "execution_count": 1,
   "metadata": {
    "colab": {
     "base_uri": "https://localhost:8080/",
     "height": 34
    },
    "colab_type": "code",
    "id": "ku9-BMpLuwPg",
    "outputId": "03d58733-f9b3-46db-e1bf-35a2b4365e9b"
   },
   "outputs": [
    {
     "name": "stderr",
     "output_type": "stream",
     "text": [
      "Using TensorFlow backend.\n"
     ]
    }
   ],
   "source": [
    "import numpy as np\n",
    "from keras.applications import vgg16\n",
    "from keras.preprocessing import image\n",
    "from keras.activations import relu, softmax\n",
    "import keras.backend as K\n",
    "import matplotlib.pyplot as plt\n",
    "%matplotlib inline"
   ]
  },
  {
   "cell_type": "code",
   "execution_count": null,
   "metadata": {
    "colab": {
     "base_uri": "https://localhost:8080/",
     "height": 51
    },
    "colab_type": "code",
    "id": "_1PcC5vAvUfH",
    "outputId": "a56cf473-e15d-47fc-931f-150995b10a4e"
   },
   "outputs": [],
   "source": [
    "# Load VGG-16 model pretrained on ImageNet dataset\n",
    "model = vgg16.VGG16(weights='imagenet')"
   ]
  },
  {
   "cell_type": "code",
   "execution_count": null,
   "metadata": {
    "colab": {
     "base_uri": "https://localhost:8080/",
     "height": 320
    },
    "colab_type": "code",
    "id": "qQsY7RdCvXxR",
    "outputId": "d819e590-7888-496f-c3ba-eb2a429dc8fd"
   },
   "outputs": [],
   "source": [
    "img_path = 'orange.jpg'\n",
    "img = image.load_img(img_path, target_size=(224,224))\n",
    "\n",
    "plt.imshow(img)\n",
    "plt.grid('off')\n",
    "plt.axis('off')\n",
    "\n",
    "# Create a batch and preprocess the image\n",
    "x = image.img_to_array(img)\n",
    "x = np.expand_dims(x, axis=0)\n",
    "x = vgg16.preprocess_input(x)\n",
    "\n",
    "# Get the initial predictions\n",
    "preds = model.predict(x)\n",
    "initial_class = np.argmax(preds)\n",
    "print('Predicted:', vgg16.decode_predictions(preds, top=3)[0])"
   ]
  },
  {
   "cell_type": "code",
   "execution_count": null,
   "metadata": {
    "colab": {
     "base_uri": "https://localhost:8080/",
     "height": 269
    },
    "colab_type": "code",
    "id": "f5lkz6invbS-",
    "outputId": "d3e4395f-bb9c-48c1-f859-b83ee8d79b9e"
   },
   "outputs": [],
   "source": [
    "# Inverse of the preprocessing and plot the image\n",
    "def plot_img(x):\n",
    "    \"\"\"\n",
    "    x is a BGR image with shape (? ,224, 224, 3) \n",
    "    \"\"\"\n",
    "    t = np.zeros_like(x[0])\n",
    "    t[:,:,0] = x[0][:,:,2]\n",
    "    t[:,:,1] = x[0][:,:,1]\n",
    "    t[:,:,2] = x[0][:,:,0]  \n",
    "    plt.imshow(np.clip((t+[123.68, 116.779, 103.939]), 0, 255)/255)\n",
    "    plt.grid('off')\n",
    "    plt.axis('off')\n",
    "    plt.show()\n",
    "\n",
    "# Sanity Check\n",
    "plot_img(x)"
   ]
  },
  {
   "cell_type": "code",
   "execution_count": null,
   "metadata": {
    "colab": {},
    "colab_type": "code",
    "id": "KSrZek5-VUDQ"
   },
   "outputs": [],
   "source": [
    "# Get current session (assuming tf backend)\n",
    "sess = K.get_session()\n",
    "# Initialize adversarial example with input image\n",
    "x_adv = x\n",
    "# Added noise\n",
    "x_noise = np.zeros_like(x)"
   ]
  },
  {
   "cell_type": "code",
   "execution_count": null,
   "metadata": {
    "colab": {
     "base_uri": "https://localhost:8080/",
     "height": 861
    },
    "colab_type": "code",
    "id": "8x_3BL-Lveb7",
    "outputId": "07e38a60-7f59-44ac-cfa7-1e00948b6160"
   },
   "outputs": [],
   "source": [
    "# Set variables\n",
    "epochs = 400\n",
    "epsilon = 0.01\n",
    "target_class = 943 # cucumber\n",
    "prev_probs = []\n",
    "\n",
    "for i in range(epochs): \n",
    "    # One hot encode the target class\n",
    "    target = K.one_hot(target_class, 1000)\n",
    "    \n",
    "    # Get the loss and gradient of the loss wrt the inputs\n",
    "    loss = -1*K.categorical_crossentropy(target, model.output)\n",
    "    grads = K.gradients(loss, model.input)\n",
    "\n",
    "    # Get the sign of the gradient\n",
    "    delta = K.sign(grads[0])\n",
    "    x_noise = x_noise + delta\n",
    "\n",
    "    # Perturb the image\n",
    "    x_adv = x_adv + epsilon*delta\n",
    "\n",
    "    # Get the new image and predictions\n",
    "    x_adv = sess.run(x_adv, feed_dict={model.input:x})\n",
    "    preds = model.predict(x_adv)\n",
    "\n",
    "    # Store the probability of the target class\n",
    "    prev_probs.append(preds[0][target_class])\n",
    "\n",
    "    if i%20==0:\n",
    "        print(i, preds[0][target_class], vgg16.decode_predictions(preds, top=3)[0])\n",
    "\n",
    "plot_img(x_adv)\n",
    "plot_img(x_adv-x)"
   ]
  },
  {
   "cell_type": "code",
   "execution_count": null,
   "metadata": {
    "colab": {
     "base_uri": "https://localhost:8080/",
     "height": 282
    },
    "colab_type": "code",
    "id": "AGvLV7RsncVM",
    "outputId": "189ac034-b90f-4123-b170-f11655d5b79b"
   },
   "outputs": [],
   "source": [
    "# Plot the probability of the target class wrt epochs\n",
    "plt.plot(np.arange(0,len(prev_probs)), prev_probs)"
   ]
  }
 ],
 "metadata": {
  "accelerator": "GPU",
  "colab": {
   "collapsed_sections": [],
   "name": "fgsm_keras.ipynb",
   "provenance": [],
   "version": "0.3.2"
  },
  "kernelspec": {
   "display_name": "Python 3",
   "language": "python",
   "name": "python3"
  },
  "language_info": {
   "codemirror_mode": {
    "name": "ipython",
    "version": 3
   },
   "file_extension": ".py",
   "mimetype": "text/x-python",
   "name": "python",
   "nbconvert_exporter": "python",
   "pygments_lexer": "ipython3",
   "version": "3.8.2"
  }
 },
 "nbformat": 4,
 "nbformat_minor": 1
}
